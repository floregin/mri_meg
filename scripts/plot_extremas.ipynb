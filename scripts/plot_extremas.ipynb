{
 "cells": [
  {
   "cell_type": "code",
   "execution_count": 2,
   "metadata": {},
   "outputs": [],
   "source": [
    "%matplotlib inline\n",
    "\n",
    "import nibabel as nib\n",
    "import numpy as np\n",
    "import subprocess\n",
    "import nilearn\n",
    "from nilearn import surface, plotting"
   ]
  },
  {
   "cell_type": "code",
   "execution_count": 3,
   "metadata": {},
   "outputs": [],
   "source": [
    "hemi = ['L', 'R']\n",
    "subjects = ['A2002', 'A2003', 'V1001', 'V1002']\n",
    "dir = 'C:/Users/telec/Documents/Cogmaster/Stage/projects/mri_meg/scripts'\n",
    "\n",
    "# to save files as gii files\n",
    "# found the basic building blocks for this here: https://sourcecodequery.com/example-method/nibabel.gifti.gifti.GiftiImageh\n",
    "\n",
    "for j, s in enumerate(subjects):\n",
    "    for h in hemi:\n",
    "        res = np.load('%s/subject%s_comp0_%s.npy' % (dir, s, h))\n",
    "        garraysl = [nib.gifti.gifti.GiftiDataArray(data=res, datatype='NIFTI_TYPE_FLOAT32', encoding='ASCII')]\n",
    "        giil = nib.gifti.gifti.GiftiImage(darrays=garraysl)\n",
    "        nib.save(giil, '%s/subject%s.comp0.%s.shape.gii' % (dir, s, h))"
   ]
  },
  {
   "cell_type": "code",
   "execution_count": 4,
   "metadata": {},
   "outputs": [
    {
     "name": "stdout",
     "output_type": "stream",
     "text": [
      "C:\\Users\\telec\\Downloads\\workbench-windows64-v1.5.0\\workbench\\bin_windows64\n"
     ]
    }
   ],
   "source": [
    "cd C:/Users/telec/Downloads/workbench-windows64-v1.5.0/workbench/bin_windows64"
   ]
  },
  {
   "cell_type": "code",
   "execution_count": 5,
   "metadata": {},
   "outputs": [],
   "source": [
    "# above: change of directory necessary for the workbench commands\n",
    "\n",
    "# creating zone ROIs\n",
    "\n",
    "ind = 19 # index to select which zone output to use\n",
    "for h in hemi:\n",
    "    zone_data = nib.load('%s/zones.fsa5.%s.shape.gii' % (dir, h))\n",
    "    zone_data_1d = zone_data.darrays[ind].data\n",
    "    \n",
    "    garraysl = [nib.gifti.gifti.GiftiDataArray(data=zone_data_1d, datatype='NIFTI_TYPE_FLOAT32', encoding='ASCII')]\n",
    "    giil = nib.gifti.gifti.GiftiImage(darrays=garraysl)\n",
    "    nib.save(giil, '%s/zone%i.%s.shape.gii' % (dir, ind, h))\n",
    "        \n",
    "    for i in np.unique(zone_data_1d):\n",
    "        zone_data_bin = np.zeros(10242)\n",
    "        zone_data_bin[np.where(zone_data_1d == i)] = 1\n",
    "        \n",
    "        garraysl = [nib.gifti.gifti.GiftiDataArray(data=zone_data_bin, datatype='NIFTI_TYPE_FLOAT32', encoding='ASCII')]\n",
    "        giil = nib.gifti.gifti.GiftiImage(darrays=garraysl)\n",
    "        nib.save(giil, '%s/zone%i.roi%i.%s.shape.gii' % (dir, ind, i, h))\n",
    "        \n",
    "        # to 'erode' the rois so that only the centers remain:\n",
    "        erode_mm = 10 # may need to increase this on an roi-by-roi basis\n",
    "    \n",
    "        subprocess.run(['wb_command', \n",
    "                        '-metric-erode', \n",
    "                        '%s/zone%i.roi%i.%s.shape.gii' % (dir, ind,i,h), \n",
    "                        '%s/fsa5.%s.inflated.surf.gii' % (dir, h), \n",
    "                        '%i' % erode_mm,\n",
    "                        '%s/zone%i.roi%i.eroded%i.%s.shape.gii' % (dir, ind,i,erode_mm,h)\n",
    "                       ],\n",
    "                        check=True)\n",
    "    \n",
    "# not needed, but just a note on how to create ROI:\n",
    "# wb_command -metric-label-import zone19.roi1.L.shape.gii label_list.txt zone19.roi1.L.label.gii"
   ]
  },
  {
   "cell_type": "code",
   "execution_count": null,
   "metadata": {},
   "outputs": [],
   "source": [
    "# example of visualization of the data on the surfaces\n",
    "\n",
    "from nilearn import surface, plotting\n",
    "sL = nilearn.surface.load_surf_mesh('%s/fsa5.L.inflated.surf.gii' % dir)\n",
    "sR = nilearn.surface.load_surf_mesh('%s/fsa5.R.inflated.surf.gii' % dir)\n",
    "\n",
    "zL = nilearn.surface.load_surf_data('%s/subjectA2002.zone1.L.shape.gii' % dir) # for a specific subject and a specific zone\n",
    "zR = nilearn.surface.load_surf_data('%s/subjectA2002.zone1.R.shape.gii' % dir)\n",
    "\n",
    "nilearn.plotting.plot_surf_roi(sL,zL,view='lateral')\n",
    "nilearn.plotting.plot_surf_roi(sL,zL,view='medial')\n",
    "nilearn.plotting.plot_surf_roi(sR,zR,view='lateral')\n",
    "nilearn.plotting.plot_surf_roi(sR,zR,view='medial')"
   ]
  },
  {
   "cell_type": "code",
   "execution_count": 6,
   "metadata": {},
   "outputs": [],
   "source": [
    "# find local extrema within each zone for each individual\n",
    "    \n",
    "comp=0\n",
    "\n",
    "for s in subjects:\n",
    "    for h in hemi:\n",
    "        surf='%s/fsa5.%s.inflated.surf.gii' % (dir, h)\n",
    "        gradient_file='%s/subject%s.comp0.%s.shape.gii' % (dir, s, h)\n",
    "        gradient=nib.load(gradient_file)\n",
    "        zone_data = nib.load('%s/zones.fsa5.%s.shape.gii' % (dir, h))\n",
    "        zone_data_1d = zone_data.darrays[ind].data # convert zone gifti file into an array\n",
    "        for i in np.unique(zone_data_1d):\n",
    "            zone_roi = nib.load('%s/zone%i.roi%i.eroded%i.%s.shape.gii' % (dir, ind, i, erode_mm, h))\n",
    "            zone_roi_data = zone_roi.darrays[0].data\n",
    "            gradient_roi = gradient.darrays[0].data * zone_roi_data # restrict gradient to the ROIs\n",
    "            garraysl = [nib.gifti.gifti.GiftiDataArray(data=gradient_roi, datatype='NIFTI_TYPE_FLOAT32', encoding='ASCII')]\n",
    "            giil = nib.gifti.gifti.GiftiImage(darrays=garraysl) # convert into gifti file\n",
    "            gradient_roi_file = '%s/subject%s.comp0.zone%i.roi%i.eroded%i.%s.shape.gii' % (dir, s, ind, i, erode_mm, h)\n",
    "            nib.save(giil, gradient_roi_file)\n",
    "\n",
    "            output='%s/subject%s.zone%i.roi%i.eroded%i.extrema.%s.shape.gii' % (dir, s, ind, i, erode_mm, h)\n",
    "            subprocess.run(['wb_command', \n",
    "                        '-metric-extrema',\n",
    "                        surf, gradient_roi_file, '30', output, '-presmooth', '6', '-only-maxima'],shell=True)\n",
    "          "
   ]
  },
  {
   "cell_type": "code",
   "execution_count": 12,
   "metadata": {},
   "outputs": [
    {
     "name": "stdout",
     "output_type": "stream",
     "text": [
      "[0. 0. 0. ... 0. 0. 0.]\n",
      "[[[-24 -63  12]]]\n",
      "[[  4.133622  -8.32791  -49.849243]\n",
      " [ 25.73593   10.243019 -40.637596]\n",
      " [-27.354795  19.371479  30.30519 ]]\n"
     ]
    },
    {
     "data": {
      "image/png": "[encoded data removed]",
      "text/plain": [
       "<Figure size 432x288 with 1 Axes>"
      ]
     },
     "metadata": {
      "needs_background": "light"
     },
     "output_type": "display_data"
    }
   ],
   "source": [
    "import matplotlib.pyplot as plt\n",
    "import numpy as np\n",
    "\n",
    "i = 2\n",
    "h = 'L'\n",
    "subject = 'A2002'\n",
    "\n",
    "# set vertices to plot, loaded from extrema\n",
    "vertices_file = nilearn.surface.load_surf_data('%s/subject%s.zone%i.roi%i.eroded%i.extrema.%s.shape.gii' % (dir, s, ind, i, erode_mm, h))\n",
    "vertices = surf[0][np.where(vertices_file),:].astype(int)\n",
    "\n",
    "# load surface and data\n",
    "surf = nilearn.surface.load_surf_mesh('%s/fsa5.%s.inflated.surf.gii' % (dir, h))\n",
    "data = nilearn.surface.load_surf_data('%s/zone%i.roi%i.eroded%i.%s.shape.gii' % (dir, ind, i, erode_mm, h)) \n",
    "\n",
    "# plot surface:\n",
    "fig, ax = plt.subplots(subplot_kw={'projection': '3d'})\n",
    "fig = nilearn.plotting.plot_surf_stat_map(surf, data, view='lateral', cmap='jet', \n",
    "                                          figure=fig, axes=ax, colorbar=False, \n",
    "                                          threshold=np.abs(data[np.nonzero(data)]).min(), # sets zero values to grey\n",
    "                                          alpha=1)\n",
    "\n",
    "# loop through all vertices:\n",
    "\n",
    "coords = surf[0][vertices]\n",
    "coords_s = np.squeeze(coords) # squeeze because coords had 3 dimensions, but 2 dimensions needed\n",
    "print(coords_s)\n",
    "for x,y,z in coords_s:\n",
    "    ax.text(x,y,z, 'o', fontsize='large', weight='heavy', color='w', ha='center', va='center')\n",
    "plt.show()"
   ]
  },
  {
   "cell_type": "code",
   "execution_count": null,
   "metadata": {},
   "outputs": [],
   "source": []
  }
 ],
 "metadata": {
  "kernelspec": {
   "display_name": "Python 3",
   "language": "python",
   "name": "python3"
  },
  "language_info": {
   "codemirror_mode": {
    "name": "ipython",
    "version": 3
   },
   "file_extension": ".py",
   "mimetype": "text/x-python",
   "name": "python",
   "nbconvert_exporter": "python",
   "pygments_lexer": "ipython3",
   "version": "3.7.4"
  }
 },
 "nbformat": 4,
 "nbformat_minor": 2
}
